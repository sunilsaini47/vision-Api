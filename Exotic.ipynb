{
 "cells": [
  {
   "cell_type": "code",
   "execution_count": 3,
   "id": "weighted-cisco",
   "metadata": {},
   "outputs": [],
   "source": [
    "import argparse\n",
    "from enum import Enum\n",
    "import io, os\n",
    "\n",
    "from google.cloud import vision\n",
    "from PIL import Image, ImageDraw\n"
   ]
  },
  {
   "cell_type": "code",
   "execution_count": 4,
   "id": "mathematical-triumph",
   "metadata": {},
   "outputs": [],
   "source": [
    "# Import Google Credentials in Environ Varaibles\n",
    "os.environ['GOOGLE_APPLICATION_CREDENTIALS'] = r\"infared-81804c88c517.json\""
   ]
  },
  {
   "cell_type": "code",
   "execution_count": 5,
   "id": "alive-radar",
   "metadata": {},
   "outputs": [],
   "source": [
    "class FeatureType(Enum):\n",
    "    PAGE = 1\n",
    "    BLOCK = 2\n",
    "    PARA = 3\n",
    "    WORD = 4\n",
    "    SYMBOL = 5\n"
   ]
  },
  {
   "cell_type": "code",
   "execution_count": 6,
   "id": "informative-facility",
   "metadata": {},
   "outputs": [],
   "source": [
    "def draw_boxes(image, bounds, color):\n",
    "    \"\"\"Draw a border around the image using the hints in the vector list.\"\"\"\n",
    "    draw = ImageDraw.Draw(image)\n",
    "\n",
    "    for bound in bounds:\n",
    "        draw.polygon([\n",
    "            bound.vertices[0].x, bound.vertices[0].y,\n",
    "            bound.vertices[1].x, bound.vertices[1].y,\n",
    "            bound.vertices[2].x, bound.vertices[2].y,\n",
    "            bound.vertices[3].x, bound.vertices[3].y], None, color)\n",
    "    return image\n"
   ]
  },
  {
   "cell_type": "code",
   "execution_count": 7,
   "id": "understood-productivity",
   "metadata": {},
   "outputs": [],
   "source": [
    "def get_document_bounds(image_file, feature):\n",
    "    \"\"\"Returns document bounds given an image.\"\"\"\n",
    "    client = vision.ImageAnnotatorClient()\n",
    "\n",
    "    bounds = []\n",
    "\n",
    "    with io.open(image_file, 'rb') as image_file:\n",
    "        content = image_file.read()\n",
    "\n",
    "    image = vision.Image(content=content)\n",
    "\n",
    "    response = client.document_text_detection(image=image)\n",
    "    document = response.full_text_annotation\n",
    "\n",
    "    # Collect specified feature bounds by enumerating all document features\n",
    "    for page in document.pages:\n",
    "        for block in page.blocks:\n",
    "            for paragraph in block.paragraphs:\n",
    "                for word in paragraph.words:\n",
    "                    for symbol in word.symbols:\n",
    "                        if (feature == FeatureType.SYMBOL):\n",
    "                            bounds.append(symbol.bounding_box)\n",
    "\n",
    "                    if (feature == FeatureType.WORD):\n",
    "                        bounds.append(word.bounding_box)\n",
    "\n",
    "                if (feature == FeatureType.PARA):\n",
    "                    bounds.append(paragraph.bounding_box)\n",
    "\n",
    "            if (feature == FeatureType.BLOCK):\n",
    "                bounds.append(block.bounding_box)\n",
    "\n",
    "    # The list `bounds` contains the coordinates of the bounding boxes.\n",
    "    return bounds\n"
   ]
  },
  {
   "cell_type": "code",
   "execution_count": 8,
   "id": "incorporated-beverage",
   "metadata": {},
   "outputs": [],
   "source": [
    "def render_doc_text(filein, fileout):\n",
    "    image = Image.open(filein)\n",
    "    bounds = get_document_bounds(filein, FeatureType.BLOCK)\n",
    "    draw_boxes(image, bounds, 'blue')\n",
    "    bounds = get_document_bounds(filein, FeatureType.PARA)\n",
    "    draw_boxes(image, bounds, 'red')\n",
    "    bounds = get_document_bounds(filein, FeatureType.WORD)\n",
    "    draw_boxes(image, bounds, 'yellow')\n",
    "\n",
    "    if fileout != 0:\n",
    "        image.save(fileout)\n",
    "    else:\n",
    "        image.show()\n"
   ]
  },
  {
   "cell_type": "code",
   "execution_count": null,
   "id": "generous-individual",
   "metadata": {},
   "outputs": [],
   "source": [
    "render_doc_text(\"\", args.out_file)"
   ]
  }
 ],
 "metadata": {
  "kernelspec": {
   "display_name": "Python 3",
   "language": "python",
   "name": "python3"
  },
  "language_info": {
   "codemirror_mode": {
    "name": "ipython",
    "version": 3
   },
   "file_extension": ".py",
   "mimetype": "text/x-python",
   "name": "python",
   "nbconvert_exporter": "python",
   "pygments_lexer": "ipython3",
   "version": "3.8.2"
  }
 },
 "nbformat": 4,
 "nbformat_minor": 5
}
