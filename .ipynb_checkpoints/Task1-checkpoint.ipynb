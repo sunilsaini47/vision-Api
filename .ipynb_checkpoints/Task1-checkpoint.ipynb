{
 "cells": [
  {
   "cell_type": "code",
   "execution_count": 1,
   "metadata": {},
   "outputs": [],
   "source": [
    "import os\n",
    "from google.cloud import client, storage "
   ]
  },
  {
   "cell_type": "code",
   "execution_count": null,
   "metadata": {},
   "outputs": [],
   "source": []
  },
  {
   "cell_type": "code",
   "execution_count": 2,
   "metadata": {},
   "outputs": [
    {
     "name": "stdout",
     "output_type": "stream",
     "text": [
      "Task1.ipynb  infared-78d656138419.json\r\n"
     ]
    }
   ],
   "source": [
    "!ls"
   ]
  },
  {
   "cell_type": "code",
   "execution_count": 3,
   "metadata": {},
   "outputs": [],
   "source": [
    "#os.environ(\"infared-78d656138419.JSON\")\n",
    "os.environ['GOOGLE_APPLICATION_CREDENTIALS'] = r\"infared-78d656138419.JSON\"\n",
    "#client= vision.ImageAnnotatorClient()"
   ]
  },
  {
   "cell_type": "code",
   "execution_count": 4,
   "metadata": {},
   "outputs": [],
   "source": [
    "# by simple \n",
    "\n",
    "# #storage_client = storage.client.from_service_account_json(\"infared-78d656138419.JSON\")\n",
    "# storage_client = storage.Client()\n",
    "\n",
    "# #create a bucket object\n",
    "# bucket = storage_client.get_bucket(\"anvibucket\")\n",
    "\n",
    "# filename = \"%s\" % (\"MY.PNG\")\n",
    "# blob = bucket.blob(filename)\n",
    "\n",
    "# with open('image1.JPG', 'rb') as f:\n",
    "#     blob.upload_from_file(f)\n",
    "#     print(\"Upload complete\")    "
   ]
  },
  {
   "cell_type": "code",
   "execution_count": 5,
   "metadata": {},
   "outputs": [],
   "source": [
    "#by funtion \n",
    "# write all your function here\n",
    "\n",
    "# def upload(anvibucket, img):\n",
    "#     storage_client = storage.Client()\n",
    "#     bucket = storage_client.get_bucket(\"anvibucket\")\n",
    "#     filename = \"%s\" % (str(img))                           ## this line is renames every upload file..  do you understand\n",
    "#     blob = bucket.blob(filename)                           ## you missed here open file logic\n",
    "#     with open(img, \"rb\") as f:\n",
    "#         blob.upload_from_file(f)                           #  here add content type\n",
    "#         print(\"Upload complete\")\n",
    "#     return blob.public_url\n",
    "\n",
    "    \n",
    "\n",
    "\n",
    "# def get_file_path(bucket, filename):\n",
    "#     pass"
   ]
  },
  {
   "cell_type": "code",
   "execution_count": 6,
   "metadata": {},
   "outputs": [],
   "source": [
    "# img = \"download2.JPG\"\n",
    "# bucket_name = \"anvibucket\"\n",
    "# upload(bucket_name, img)"
   ]
  },
  {
   "cell_type": "code",
   "execution_count": 7,
   "metadata": {},
   "outputs": [
    {
     "name": "stdout",
     "output_type": "stream",
     "text": [
      "outside from function\n"
     ]
    }
   ],
   "source": [
    "def get_list_files(anvibucket, pdf):\n",
    "    storage_client = storage.Client()\n",
    "    bucket = storage_client.get_bucket(\"anvibucket\")\n",
    "    filename = \"%s\" %(str(pdf))    \n",
    "    blob = bucket.blob(filename)\n",
    "    with open(pdf, \"rb\") as f:\n",
    "        blob.upload_from_file(f)\n",
    "        print(\"upload complete\")\n",
    "    return blob.public_url\n",
    "print(\"outside from function\")"
   ]
  },
  {
   "cell_type": "code",
   "execution_count": 8,
   "metadata": {},
   "outputs": [],
   "source": [
    "### 2nd file path from here...\n",
    "pdf = \"SUNIL_RESUME.pdf\"\n",
    "bucket_name = \"anvibucket\"\n",
    "# upload(bucket_name, pdf)"
   ]
  },
  {
   "cell_type": "code",
   "execution_count": 9,
   "metadata": {},
   "outputs": [
    {
     "name": "stdout",
     "output_type": "stream",
     "text": [
      "outside from function\n"
     ]
    }
   ],
   "source": [
    "# 3rd file from here...\n",
    "def get_files(anvibucket, doc):\n",
    "    storage_client = storage.Client()\n",
    "    bucket = storage_client.get_bucket(\"anvibucket\")\n",
    "    filename = \"%s\" %(str(doc))    \n",
    "    blob = bucket.blob(filename)\n",
    "    with open(doc, \"rb\") as f:\n",
    "        blob.upload_from_file(f)\n",
    "        print(\"upload complete\")\n",
    "    return blob.public_url\n",
    "print(\"outside from function\")"
   ]
  },
  {
   "cell_type": "code",
   "execution_count": 10,
   "metadata": {},
   "outputs": [],
   "source": [
    "doc = \"saini.docx\"\n",
    "bucket_name = \"anvibucket\"\n",
    "#upload(bucket_name, doc)"
   ]
  },
  {
   "cell_type": "code",
   "execution_count": 11,
   "metadata": {},
   "outputs": [
    {
     "name": "stdout",
     "output_type": "stream",
     "text": [
      "done\n"
     ]
    }
   ],
   "source": [
    "\n",
    "\n",
    "def upload_list(anvibucket):\n",
    "    storage_client = storage.Client()\n",
    "    bucket = storage_client.get_bucket(\"anvibucket\")\n",
    "    filename = \"%s\" %(str(list_files))\n",
    "    blob = bucket.blob(filename)\n",
    "    with open(img, \"rb\") as f:\n",
    "        blob.upload_from_files(f)\n",
    "        print(\"upload complete\")\n",
    "    return blob.public_url\n",
    "print(\"done\")"
   ]
  },
  {
   "cell_type": "code",
   "execution_count": 12,
   "metadata": {},
   "outputs": [],
   "source": [
    "list_files = [\"download.JPG\", \"download1.JPG\"]\n",
    "bucket_name = \"anvibucket\"\n",
    "#upload(bucket_name, list_files)"
   ]
  },
  {
   "cell_type": "code",
   "execution_count": 13,
   "metadata": {},
   "outputs": [
    {
     "name": "stdout",
     "output_type": "stream",
     "text": [
      "/MY.PNG\n",
      "MY.PNG\n",
      "SUNIL_RESUME.pdf\n",
      "SUNIL_RESUME.pdfoutput-1-to-2.json\n",
      "arun.PNG\n",
      "download2.JPG\n",
      "saini.docx\n"
     ]
    }
   ],
   "source": [
    "import os\n",
    "from google.cloud import client, storage\n",
    "os.environ['GOOGLE_APPLICATION_CREDENTIALS'] = r\"infared-78d656138419.JSON\"\n",
    "\n",
    "def list_blobs(bucket_name):\n",
    "    \n",
    "    storage_client = storage.Client()    # here you calling wrong.   first storage client..next bucket \n",
    "    bucket = storage_client.get_bucket(bucket_name)\n",
    "    blobs = bucket.list_blobs()\n",
    "\n",
    "    for blob in blobs:\n",
    "        print(blob.name)\n",
    "\n",
    "list_blobs(\"anvibucket\")\n",
    "\n",
    "\n"
   ]
  },
  {
   "cell_type": "code",
   "execution_count": 14,
   "metadata": {},
   "outputs": [],
   "source": [
    "# Writing Here Quality Code.  See ..\n",
    "\n",
    "class GcloudFileManagement:\n",
    "    '''\n",
    "    param:  bucket:   availble bucket\n",
    "    '''\n",
    "    \n",
    "    def __init__(self, bucket):\n",
    "        self.bucket = bucket\n",
    "    \n",
    "    # we need this class in every sub duntion so..\n",
    "    def connect_bucket(self):\n",
    "        client = storage.Client()\n",
    "        bucket = client.get_bucket(self.bucket)\n",
    "        return bucket\n",
    "        \n",
    "    def upload_files(self, file):\n",
    "        filename = \"%s\" %(str(list_files))\n",
    "        \n",
    "        bucket = self.connect_bucket()\n",
    "        blob = bucket.blob(filename)\n",
    "        with open(img, \"rb\") as f:\n",
    "            blob.upload_from_files(f)\n",
    "            print(\"upload complete\")\n",
    "        return blob.public_url\n",
    "    \n",
    "    def objects_list(self):\n",
    "        bucket = self.connect_bucket()\n",
    "        "
   ]
  },
  {
   "cell_type": "code",
   "execution_count": 15,
   "metadata": {},
   "outputs": [
    {
     "name": "stdout",
     "output_type": "stream",
     "text": [
      "Help on class type in module builtins:\n",
      "\n",
      "class type(object)\n",
      " |  type(object_or_name, bases, dict)\n",
      " |  type(object) -> the object's type\n",
      " |  type(name, bases, dict) -> a new type\n",
      " |  \n",
      " |  Methods defined here:\n",
      " |  \n",
      " |  __call__(self, /, *args, **kwargs)\n",
      " |      Call self as a function.\n",
      " |  \n",
      " |  __delattr__(self, name, /)\n",
      " |      Implement delattr(self, name).\n",
      " |  \n",
      " |  __dir__(self, /)\n",
      " |      Specialized __dir__ implementation for types.\n",
      " |  \n",
      " |  __getattribute__(self, name, /)\n",
      " |      Return getattr(self, name).\n",
      " |  \n",
      " |  __init__(self, /, *args, **kwargs)\n",
      " |      Initialize self.  See help(type(self)) for accurate signature.\n",
      " |  \n",
      " |  __instancecheck__(self, instance, /)\n",
      " |      Check if an object is an instance.\n",
      " |  \n",
      " |  __repr__(self, /)\n",
      " |      Return repr(self).\n",
      " |  \n",
      " |  __setattr__(self, name, value, /)\n",
      " |      Implement setattr(self, name, value).\n",
      " |  \n",
      " |  __sizeof__(self, /)\n",
      " |      Return memory consumption of the type object.\n",
      " |  \n",
      " |  __subclasscheck__(self, subclass, /)\n",
      " |      Check if a class is a subclass.\n",
      " |  \n",
      " |  __subclasses__(self, /)\n",
      " |      Return a list of immediate subclasses.\n",
      " |  \n",
      " |  mro(self, /)\n",
      " |      Return a type's method resolution order.\n",
      " |  \n",
      " |  ----------------------------------------------------------------------\n",
      " |  Class methods defined here:\n",
      " |  \n",
      " |  __prepare__(...)\n",
      " |      __prepare__() -> dict\n",
      " |      used to create the namespace for the class statement\n",
      " |  \n",
      " |  ----------------------------------------------------------------------\n",
      " |  Static methods defined here:\n",
      " |  \n",
      " |  __new__(*args, **kwargs)\n",
      " |      Create and return a new object.  See help(type) for accurate signature.\n",
      " |  \n",
      " |  ----------------------------------------------------------------------\n",
      " |  Data descriptors defined here:\n",
      " |  \n",
      " |  __abstractmethods__\n",
      " |  \n",
      " |  __dict__\n",
      " |  \n",
      " |  __text_signature__\n",
      " |  \n",
      " |  ----------------------------------------------------------------------\n",
      " |  Data and other attributes defined here:\n",
      " |  \n",
      " |  __base__ = <class 'object'>\n",
      " |      The base class of the class hierarchy.\n",
      " |      \n",
      " |      When called, it accepts no arguments and returns a new featureless\n",
      " |      instance that has no instance attributes and cannot be given any.\n",
      " |  \n",
      " |  __bases__ = (<class 'object'>,)\n",
      " |  \n",
      " |  __basicsize__ = 880\n",
      " |  \n",
      " |  __dictoffset__ = 264\n",
      " |  \n",
      " |  __flags__ = 2148291584\n",
      " |  \n",
      " |  __itemsize__ = 40\n",
      " |  \n",
      " |  __mro__ = (<class 'type'>, <class 'object'>)\n",
      " |  \n",
      " |  __weakrefoffset__ = 368\n",
      "\n"
     ]
    }
   ],
   "source": [
    "# !pip install google-cloud-vision\n",
    "#!pip3 install -r requirements.txt\n",
    "\n",
    "help(type)\n"
   ]
  },
  {
   "cell_type": "code",
   "execution_count": 18,
   "metadata": {
    "scrolled": true
   },
   "outputs": [
    {
     "name": "stdout",
     "output_type": "stream",
     "text": [
      "Waiting for the operation to finish.\n",
      "Output files:\n",
      "SUNIL_RESUME.pdf\n",
      "SUNIL_RESUME.pdfoutput-1-to-2.json\n",
      "<bound method Blob.download_as_text of <Blob: anvibucket, SUNIL_RESUME.pdf, 1611133656017455>>\n"
     ]
    },
    {
     "ename": "NameError",
     "evalue": "name 'data' is not defined",
     "output_type": "error",
     "traceback": [
      "\u001b[0;31m---------------------------------------------------------------------------\u001b[0m",
      "\u001b[0;31mNameError\u001b[0m                                 Traceback (most recent call last)",
      "\u001b[0;32m<ipython-input-18-180fbf0892db>\u001b[0m in \u001b[0;36m<module>\u001b[0;34m\u001b[0m\n\u001b[1;32m     65\u001b[0m \u001b[0;34m\u001b[0m\u001b[0m\n\u001b[1;32m     66\u001b[0m \u001b[0mres\u001b[0m \u001b[0;34m=\u001b[0m \u001b[0mjson_string\u001b[0m\u001b[0;34m\u001b[0m\u001b[0;34m\u001b[0m\u001b[0m\n\u001b[0;32m---> 67\u001b[0;31m \u001b[0mdata\u001b[0m \u001b[0;34m=\u001b[0m \u001b[0mjson\u001b[0m\u001b[0;34m.\u001b[0m\u001b[0mdumps\u001b[0m\u001b[0;34m(\u001b[0m\u001b[0mdata\u001b[0m\u001b[0;34m)\u001b[0m\u001b[0;34m\u001b[0m\u001b[0;34m\u001b[0m\u001b[0m\n\u001b[0m\u001b[1;32m     68\u001b[0m \u001b[0mdata\u001b[0m \u001b[0;34m=\u001b[0m \u001b[0mjson\u001b[0m\u001b[0;34m.\u001b[0m\u001b[0mloads\u001b[0m\u001b[0;34m(\u001b[0m\u001b[0mres\u001b[0m\u001b[0;34m.\u001b[0m\u001b[0mdecode\u001b[0m\u001b[0;34m(\u001b[0m\u001b[0;34m'utf-8'\u001b[0m\u001b[0;34m)\u001b[0m\u001b[0;34m)\u001b[0m\u001b[0;34m\u001b[0m\u001b[0;34m\u001b[0m\u001b[0m\n\u001b[1;32m     69\u001b[0m \u001b[0mprint\u001b[0m\u001b[0;34m(\u001b[0m\u001b[0mdata\u001b[0m\u001b[0;34m)\u001b[0m\u001b[0;34m\u001b[0m\u001b[0;34m\u001b[0m\u001b[0m\n",
      "\u001b[0;31mNameError\u001b[0m: name 'data' is not defined"
     ]
    }
   ],
   "source": [
    "import os, io\n",
    "import json\n",
    "import re\n",
    "import requests \n",
    "from google.cloud import vision\n",
    "from google.cloud import storage\n",
    "# from google.cloud.vision import types\n",
    "\n",
    "os.environ['GOOGLE_APPLICATION_CREDENTIALS'] = r\"infared-78d656138419.JSON\"\n",
    "#client= vision.ImageAnnotatorClient()\n",
    "\n",
    "mime_type = 'application/pdf'\n",
    "\n",
    "batch_size = 2\n",
    "\n",
    "client = vision.ImageAnnotatorClient()\n",
    "\n",
    "feature = vision.Feature(\n",
    "    type_=vision.Feature.Type.DOCUMENT_TEXT_DETECTION)\n",
    "\n",
    "gcs_source_uri= \"gs://anvibucket/SUNIL_RESUME.pdf\"\n",
    "gcs_source = vision.GcsSource(uri=gcs_source_uri)\n",
    "input_config = vision.InputConfig(\n",
    "    gcs_source=gcs_source, mime_type=mime_type)\n",
    "\n",
    "gcs_destination_uri= \"gs://anvibucket/SUNIL_RESUME.pdf\"\n",
    "gcs_destination = vision.GcsDestination(uri=gcs_destination_uri)\n",
    "output_config = vision.OutputConfig(\n",
    "    gcs_destination=gcs_destination, batch_size=batch_size)\n",
    "\n",
    "async_request = vision.AsyncAnnotateFileRequest(\n",
    "    features=[feature], input_config=input_config,output_config=output_config)\n",
    "\n",
    "operation = client.async_batch_annotate_files(\n",
    "    requests=[async_request])\n",
    "\n",
    "print('Waiting for the operation to finish.')\n",
    "operation.result(timeout=180)\n",
    "\n",
    "storage_client = storage.Client()\n",
    "\n",
    "match = re.match(r'gs://([^/]+)/(.+)', gcs_destination_uri)\n",
    "bucket_name = match.group(1)\n",
    "prefix = match.group(2)\n",
    "\n",
    "bucket = storage_client.get_bucket(bucket_name)\n",
    "\n",
    "blob_list = list(bucket.list_blobs(prefix=prefix))\n",
    "print('Output files:')\n",
    "for blob in blob_list:\n",
    "    print(blob.name)\n",
    "\n",
    "   \n",
    "output = blob_list[0]\n",
    "json_string = output.download_as_text\n",
    "print(json_string)\n",
    "\n",
    "\n",
    "# res = json_string \n",
    "# data = json.loads(res.text)             # Convert data to dict \n",
    "# data = json.dumps(data)                 # Convert dict to string\n",
    "# print(data) \n",
    "# print(type(data))\n",
    "\n",
    "\n",
    "res = json_string\n",
    "data = json.dumps(data)\n",
    "data = json.loads(res.decode('utf-8'))\n",
    "print(data)\n",
    "\n",
    "\n",
    "\n",
    "# filename = json_string\n",
    "# with open(filename, 'r') as fr:\n",
    "#     pre = fr.read()\n",
    "#     lines = pre_.split('\\n')\n",
    "#     new_filename = filename.split('.')[0]+\".txt\" \n",
    "#     with open(new_filename, \"a\") as fw:\n",
    "#         fw.write(\"\\n\".join(lines))\n",
    "\n",
    "\n",
    "\n",
    "\n",
    "\"\"\"\n",
    "json_string = json_format.Parse(\n",
    "        json_string, vision.Type.AnnoateFileResponse())\n",
    "\n",
    "# json_string = output.download_as_string()\n",
    "# response = json.loads(json_string)    \n",
    "first_page_response = response['responses'][0]\n",
    "annotation = first_page_response['fullTextAnnotation']\n",
    "print('Full text:\\n')\n",
    "print(annotation['text'])\n",
    "\"\"\""
   ]
  },
  {
   "cell_type": "code",
   "execution_count": null,
   "metadata": {},
   "outputs": [],
   "source": [
    "print(json_string)"
   ]
  },
  {
   "cell_type": "code",
   "execution_count": null,
   "metadata": {},
   "outputs": [],
   "source": []
  }
 ],
 "metadata": {
  "kernelspec": {
   "display_name": "Python 3",
   "language": "python",
   "name": "python3"
  },
  "language_info": {
   "codemirror_mode": {
    "name": "ipython",
    "version": 3
   },
   "file_extension": ".py",
   "mimetype": "text/x-python",
   "name": "python",
   "nbconvert_exporter": "python",
   "pygments_lexer": "ipython3",
   "version": "3.8.2"
  }
 },
 "nbformat": 4,
 "nbformat_minor": 2
}
