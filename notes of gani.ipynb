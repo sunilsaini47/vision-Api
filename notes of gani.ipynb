{
 "cells": [
  {
   "cell_type": "code",
   "execution_count": 1,
   "id": "coated-lebanon",
   "metadata": {},
   "outputs": [],
   "source": [
    "import os\n",
    "from google.cloud import client, storage "
   ]
  },
  {
   "cell_type": "code",
   "execution_count": 2,
   "id": "respective-return",
   "metadata": {},
   "outputs": [],
   "source": [
    "# Import Google Credentials in Environ Varaibles\n",
    "os.environ['GOOGLE_APPLICATION_CREDENTIALS'] = r\"infared-81804c88c517.json\""
   ]
  },
  {
   "cell_type": "code",
   "execution_count": 3,
   "id": "short-sunday",
   "metadata": {},
   "outputs": [],
   "source": [
    "bucket_name = \"anvibucket\""
   ]
  },
  {
   "cell_type": "code",
   "execution_count": 4,
   "id": "excessive-plastic",
   "metadata": {},
   "outputs": [],
   "source": [
    " storage_client = storage.Client()\n",
    "\n",
    "class Bucket:\n",
    "    \n",
    "    def __init__(self, bucket):\n",
    "        self.bucket_name = bucket\n",
    "        self.bucket = storage_client.get_bucket(bucket)\n",
    "    \n",
    "    def objects_list(self):\n",
    "        object_files = [ i.name for i in list(self.bucket.list_blobs())]\n",
    "        print(object_files)\n",
    "    \n",
    "    def upload(self, upload_file):\n",
    "        filename = '{}'.format(str(upload_file.split(\"/\")[-1]))\n",
    "        create_blob = self.bucket.blob(filename)\n",
    "        with open(upload_file, \"rb\") as f:\n",
    "            create_blob.upload_from_file(f)\n",
    "            \n",
    "            print(\"-----   upload finished and make object to public and public_url  __________\")\n",
    "            create_blob.make_public()\n",
    "            print(\"Object Public Url\", create_blob.public_url)\n",
    "            print(\"File Meta Details\", create_blob.self_link)\n",
    "            print(\"Bucket URL  gs://{0}/{1}\".format(self.bucket_name, filename))\n",
    "        \n",
    "        return \"gs://{0}/{1}\".format(self.bucket_name, filename)"
   ]
  },
  {
   "cell_type": "code",
   "execution_count": 5,
   "id": "current-chosen",
   "metadata": {},
   "outputs": [
    {
     "name": "stdout",
     "output_type": "stream",
     "text": [
      "['./files/Invoice_607940909.pdf', '/MY.PNG', 'Invoice_607940909.pdf', 'MY.PNG', 'SUNIL_RESUME.pdf', 'SUNIL_RESUME.pdfoutput-1-to-2.json', 'arun.PNG', 'download2.JPG', 'saini.docx']\n",
      "-----   upload finished and make object to public and public_url  __________\n",
      "Object Public Url https://storage.googleapis.com/anvibucket/Invoice_607940909.pdf\n",
      "File Meta Details https://www.googleapis.com/storage/v1/b/anvibucket/o/Invoice_607940909.pdf\n",
      "Bucket URL  gs://anvibucket/Invoice_607940909.pdf\n"
     ]
    },
    {
     "data": {
      "text/plain": [
       "'gs://anvibucket/Invoice_607940909.pdf'"
      ]
     },
     "execution_count": 5,
     "metadata": {},
     "output_type": "execute_result"
    }
   ],
   "source": [
    "b = Bucket(bucket_name)\n",
    "b.objects_list()\n",
    "\n",
    "upload_file = './files/Invoice_607940909.pdf'\n",
    "b.upload(upload_file)"
   ]
  },
  {
   "cell_type": "code",
   "execution_count": 6,
   "id": "extensive-sacrifice",
   "metadata": {},
   "outputs": [],
   "source": [
    "#  Implement Google Vision API\n",
    "from google.cloud import vision as VCF\n",
    "\n",
    "\n",
    "class GoogleVision:\n",
    "    \n",
    "    def __init__(self, bucket, batch_size=2, client=None):\n",
    "        self.bucket = storage_client.get_bucket(bucket)\n",
    "        self.vision = VCF\n",
    "        self.batch_size = batch_size\n",
    "        self.client = VCF.ImageAnnotatorClient()\n",
    "        \n",
    "    def get_source_document_url(self, url):\n",
    "        get_file = self.vision.GcsSource(uri=url)\n",
    "        input_file_config = vision.InputConfig(gcs_source=get_file)\n",
    "        return input_file_config\n",
    "    \n",
    "    def get_source_document_url(self, dest):\n",
    "        gcs_destination = vision.GcsDestination(uri=dest)\n",
    "        output_file_config = vision.OutputConfig(gcs_destination=gcs_destination, batch_size=self.batch_size)\n",
    "        return output_file_config\n",
    "    \n",
    "    def get_result(self):\n",
    "        async_request = self.vision.AsyncAnnotateFileRequest(\n",
    "            features=[feature], input_config=input_config,output_config=output_config\n",
    "        )\n",
    "        operation = self.client.async_batch_annotate_files(requests=[async_request])\n",
    "        operation.result(timeout=180)\n",
    "        "
   ]
  },
  {
   "cell_type": "code",
   "execution_count": null,
   "id": "mounted-triple",
   "metadata": {},
   "outputs": [],
   "source": []
  }
 ],
 "metadata": {
  "kernelspec": {
   "display_name": "Python 3",
   "language": "python",
   "name": "python3"
  },
  "language_info": {
   "codemirror_mode": {
    "name": "ipython",
    "version": 3
   },
   "file_extension": ".py",
   "mimetype": "text/x-python",
   "name": "python",
   "nbconvert_exporter": "python",
   "pygments_lexer": "ipython3",
   "version": "3.8.2"
  }
 },
 "nbformat": 4,
 "nbformat_minor": 5
}
